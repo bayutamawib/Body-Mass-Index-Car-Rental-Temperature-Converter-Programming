{
 "cells": [
  {
   "cell_type": "code",
   "execution_count": null,
   "metadata": {},
   "outputs": [],
   "source": [
    "print(\"Body Mass Index Calculator\")\n",
    "\n",
    "weight = input(\"Enter your weight in KG :\")\n",
    "weight = float(weight)\n",
    "height = input(\"Enter your height in m2 :\")\n",
    "height = float(height)\n",
    "BMI = weight/(height/100)*(height/100)\n",
    "\n",
    "if BMI < 15 :\n",
    "     print(\"Very severely underweight\")\n",
    "elif 15 < BMI < 16 :\n",
    "     print(\"severely underweight\")\n",
    "elif 16 < BMI < 18.5 :\n",
    "     print(\"underweight\")\n",
    "elif 18.5 < BMI < 25 :\n",
    "     print(\"normal / healthy weight\")\n",
    "elif 25 < BMI < 30 :\n",
    "     print(\"overweight\")\n",
    "elif 30 < BMI < 35 :\n",
    "     print(\"moderately obese\")\n",
    "elif 35 < BMI < 40 :\n",
    "     print(\"obese\")\n",
    "elif BMI > 40 :\n",
    "     print(\"severely obese\")\n",
    "print(BMI)"
   ]
  },
  {
   "cell_type": "code",
   "execution_count": null,
   "metadata": {},
   "outputs": [],
   "source": [
    "print(\"Car Rental Fare Calculator\")\n",
    "\n",
    "number_of_seats = input(\"Number of seats : \")\n",
    "number_of_seats = int(number_of_seats)\n",
    "travel_distance = input(\"distance traveled (km) : \")\n",
    "travel_distance = int(travel_distance)\n",
    "\n",
    "base_fare = 0\n",
    "if number_of_seats == 6 :\n",
    "     base_fare = 15000\n",
    "elif number_of_seats == 4 :\n",
    "     base_fare = 10000\n",
    "    \n",
    "\n",
    "total_additional_fare = 0\n",
    "if travel_distance >= 5 and number_of_seats == 6 :\n",
    "     total_additional_fare = (travel_distance-5)*3000\n",
    "elif travel_distance >= 5 and number_of_seats == 4 :\n",
    "     total_additional_fare = (travel_distance-5)*2000\n",
    "else :\n",
    "     total_additional_fare = 0\n",
    "    \n",
    "fare = base_fare + total_additional_fare\n",
    "print(\"Your fare:\", fare)"
   ]
  },
  {
   "cell_type": "code",
   "execution_count": null,
   "metadata": {},
   "outputs": [],
   "source": [
    "previous_temperature_type = input(\"Enter previous temperature type : \")\n",
    "final_temperature_type = input(\"Enter desired temperature type : \")\n",
    "previous_temperature = input(\"Enter previous temperature rate : \")\n",
    "previous_temperature = float(previous_temperature)\n",
    "\n",
    "if previous_temperature_type == 'Celsius' :\n",
    "    if final_temperature_type == 'Celsius' :\n",
    "        result = previous_temperature\n",
    "        print(\"Final temperature =\", result, final_temperature_type)\n",
    "    elif final_temperature_type == 'Reamur' :\n",
    "        result = 4/5*previous_temperature\n",
    "        print(\"Final temperature =\", result, final_temperature_type)\n",
    "     elif final_temperature_type == 'Fahrenheit' :\n",
    "        result = 9/5*previous_temperature+32\n",
    "        print(\"Final temperature =\", result, final_temperature_type)\n",
    "     elif final_temperature_type == 'Kelvin' :\n",
    "        result = previous_temperature+273\n",
    "        print(\"Final temperature =\", result, final_temperature_type)\n",
    "    else :\n",
    "        print(\"Invalid final temperature type\")\n",
    "elif previous_temperature_type == 'Reamur':\n",
    "    pass #added by myself\n",
    "elif previous_temperature_type == 'Fahrenheit':\n",
    "    pass #added by myself\n",
    "elif previous_temperature_type == 'Kelvin':\n",
    "    pass #added by myself\n",
    "else :\n",
    "    print(\"Invalid starting temperature type\")"
   ]
  },
  {
   "cell_type": "code",
   "execution_count": null,
   "metadata": {},
   "outputs": [],
   "source": []
  }
 ],
 "metadata": {
  "kernelspec": {
   "display_name": "Python 3",
   "language": "python",
   "name": "python3"
  },
  "language_info": {
   "codemirror_mode": {
    "name": "ipython",
    "version": 3
   },
   "file_extension": ".py",
   "mimetype": "text/x-python",
   "name": "python",
   "nbconvert_exporter": "python",
   "pygments_lexer": "ipython3",
   "version": "3.8.5"
  }
 },
 "nbformat": 4,
 "nbformat_minor": 4
}
